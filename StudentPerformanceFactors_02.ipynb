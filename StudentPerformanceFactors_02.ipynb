{
 "cells": [
  {
   "cell_type": "markdown",
   "id": "2e606876",
   "metadata": {},
   "source": [
    "# ⬇️Step 1: Import Essential Libraries\n",
    "<hr>"
   ]
  },
  {
   "cell_type": "code",
   "execution_count": 326,
   "id": "cd97576b",
   "metadata": {},
   "outputs": [],
   "source": [
    "import numpy as np              \n",
    "import pandas as pd              \n",
    "import matplotlib.pyplot as plt  \n",
    "import seaborn as sns  "
   ]
  },
  {
   "cell_type": "markdown",
   "id": "61c116e7",
   "metadata": {},
   "source": [
    "# 🚚Step 2: Load cleaned Dataset\n",
    "<hr>"
   ]
  },
  {
   "cell_type": "code",
   "execution_count": 327,
   "id": "e43c2946",
   "metadata": {},
   "outputs": [
    {
     "data": {
      "text/html": [
       "<div>\n",
       "<style scoped>\n",
       "    .dataframe tbody tr th:only-of-type {\n",
       "        vertical-align: middle;\n",
       "    }\n",
       "\n",
       "    .dataframe tbody tr th {\n",
       "        vertical-align: top;\n",
       "    }\n",
       "\n",
       "    .dataframe thead th {\n",
       "        text-align: right;\n",
       "    }\n",
       "</style>\n",
       "<table border=\"1\" class=\"dataframe\">\n",
       "  <thead>\n",
       "    <tr style=\"text-align: right;\">\n",
       "      <th></th>\n",
       "      <th>Hours_Studied</th>\n",
       "      <th>Attendance</th>\n",
       "      <th>Parental_Involvement</th>\n",
       "      <th>Access_to_Resources</th>\n",
       "      <th>Extracurricular_Activities</th>\n",
       "      <th>Sleep_Hours</th>\n",
       "      <th>Previous_Scores</th>\n",
       "      <th>Motivation_Level</th>\n",
       "      <th>Internet_Access</th>\n",
       "      <th>Family_Income</th>\n",
       "      <th>Teacher_Quality</th>\n",
       "      <th>Peer_Influence</th>\n",
       "      <th>Physical_Activity</th>\n",
       "      <th>Learning_Disabilities</th>\n",
       "      <th>Parental_Education_Level</th>\n",
       "      <th>Distance_from_Home</th>\n",
       "      <th>Exam_Score</th>\n",
       "      <th>Tutoring_Sessions_Group</th>\n",
       "    </tr>\n",
       "  </thead>\n",
       "  <tbody>\n",
       "    <tr>\n",
       "      <th>0</th>\n",
       "      <td>23</td>\n",
       "      <td>84</td>\n",
       "      <td>0</td>\n",
       "      <td>2</td>\n",
       "      <td>0</td>\n",
       "      <td>7</td>\n",
       "      <td>73</td>\n",
       "      <td>0</td>\n",
       "      <td>1</td>\n",
       "      <td>0</td>\n",
       "      <td>1</td>\n",
       "      <td>2</td>\n",
       "      <td>3</td>\n",
       "      <td>0</td>\n",
       "      <td>0</td>\n",
       "      <td>2</td>\n",
       "      <td>67</td>\n",
       "      <td>0</td>\n",
       "    </tr>\n",
       "    <tr>\n",
       "      <th>1</th>\n",
       "      <td>19</td>\n",
       "      <td>64</td>\n",
       "      <td>0</td>\n",
       "      <td>1</td>\n",
       "      <td>0</td>\n",
       "      <td>8</td>\n",
       "      <td>59</td>\n",
       "      <td>0</td>\n",
       "      <td>1</td>\n",
       "      <td>1</td>\n",
       "      <td>1</td>\n",
       "      <td>0</td>\n",
       "      <td>4</td>\n",
       "      <td>0</td>\n",
       "      <td>1</td>\n",
       "      <td>1</td>\n",
       "      <td>61</td>\n",
       "      <td>2</td>\n",
       "    </tr>\n",
       "    <tr>\n",
       "      <th>2</th>\n",
       "      <td>24</td>\n",
       "      <td>98</td>\n",
       "      <td>1</td>\n",
       "      <td>1</td>\n",
       "      <td>1</td>\n",
       "      <td>7</td>\n",
       "      <td>91</td>\n",
       "      <td>1</td>\n",
       "      <td>1</td>\n",
       "      <td>1</td>\n",
       "      <td>1</td>\n",
       "      <td>1</td>\n",
       "      <td>4</td>\n",
       "      <td>0</td>\n",
       "      <td>2</td>\n",
       "      <td>2</td>\n",
       "      <td>74</td>\n",
       "      <td>2</td>\n",
       "    </tr>\n",
       "    <tr>\n",
       "      <th>3</th>\n",
       "      <td>29</td>\n",
       "      <td>89</td>\n",
       "      <td>0</td>\n",
       "      <td>1</td>\n",
       "      <td>1</td>\n",
       "      <td>8</td>\n",
       "      <td>98</td>\n",
       "      <td>1</td>\n",
       "      <td>1</td>\n",
       "      <td>1</td>\n",
       "      <td>1</td>\n",
       "      <td>0</td>\n",
       "      <td>4</td>\n",
       "      <td>0</td>\n",
       "      <td>0</td>\n",
       "      <td>1</td>\n",
       "      <td>71</td>\n",
       "      <td>1</td>\n",
       "    </tr>\n",
       "    <tr>\n",
       "      <th>4</th>\n",
       "      <td>19</td>\n",
       "      <td>92</td>\n",
       "      <td>1</td>\n",
       "      <td>1</td>\n",
       "      <td>1</td>\n",
       "      <td>6</td>\n",
       "      <td>65</td>\n",
       "      <td>1</td>\n",
       "      <td>1</td>\n",
       "      <td>1</td>\n",
       "      <td>2</td>\n",
       "      <td>1</td>\n",
       "      <td>4</td>\n",
       "      <td>0</td>\n",
       "      <td>1</td>\n",
       "      <td>2</td>\n",
       "      <td>70</td>\n",
       "      <td>3</td>\n",
       "    </tr>\n",
       "  </tbody>\n",
       "</table>\n",
       "</div>"
      ],
      "text/plain": [
       "   Hours_Studied  Attendance  Parental_Involvement  Access_to_Resources  \\\n",
       "0             23          84                     0                    2   \n",
       "1             19          64                     0                    1   \n",
       "2             24          98                     1                    1   \n",
       "3             29          89                     0                    1   \n",
       "4             19          92                     1                    1   \n",
       "\n",
       "   Extracurricular_Activities  Sleep_Hours  Previous_Scores  Motivation_Level  \\\n",
       "0                           0            7               73                 0   \n",
       "1                           0            8               59                 0   \n",
       "2                           1            7               91                 1   \n",
       "3                           1            8               98                 1   \n",
       "4                           1            6               65                 1   \n",
       "\n",
       "   Internet_Access  Family_Income  Teacher_Quality  Peer_Influence  \\\n",
       "0                1              0                1               2   \n",
       "1                1              1                1               0   \n",
       "2                1              1                1               1   \n",
       "3                1              1                1               0   \n",
       "4                1              1                2               1   \n",
       "\n",
       "   Physical_Activity  Learning_Disabilities  Parental_Education_Level  \\\n",
       "0                  3                      0                         0   \n",
       "1                  4                      0                         1   \n",
       "2                  4                      0                         2   \n",
       "3                  4                      0                         0   \n",
       "4                  4                      0                         1   \n",
       "\n",
       "   Distance_from_Home  Exam_Score  Tutoring_Sessions_Group  \n",
       "0                   2          67                        0  \n",
       "1                   1          61                        2  \n",
       "2                   2          74                        2  \n",
       "3                   1          71                        1  \n",
       "4                   2          70                        3  "
      ]
     },
     "execution_count": 327,
     "metadata": {},
     "output_type": "execute_result"
    }
   ],
   "source": [
    "df = pd.read_csv('cleaned_student_performance.csv')\n",
    "df.head()"
   ]
  },
  {
   "cell_type": "markdown",
   "id": "fdef8de7",
   "metadata": {},
   "source": [
    "# 🩺Step03: Understand Data frame\n",
    "<hr>"
   ]
  },
  {
   "cell_type": "code",
   "execution_count": 328,
   "id": "5c4febf9",
   "metadata": {},
   "outputs": [
    {
     "data": {
      "text/plain": [
       "(6600, 18)"
      ]
     },
     "execution_count": 328,
     "metadata": {},
     "output_type": "execute_result"
    }
   ],
   "source": [
    "df.shape"
   ]
  },
  {
   "cell_type": "code",
   "execution_count": 329,
   "id": "6b373214",
   "metadata": {},
   "outputs": [
    {
     "data": {
      "text/plain": [
       "Index(['Hours_Studied', 'Attendance', 'Parental_Involvement',\n",
       "       'Access_to_Resources', 'Extracurricular_Activities', 'Sleep_Hours',\n",
       "       'Previous_Scores', 'Motivation_Level', 'Internet_Access',\n",
       "       'Family_Income', 'Teacher_Quality', 'Peer_Influence',\n",
       "       'Physical_Activity', 'Learning_Disabilities',\n",
       "       'Parental_Education_Level', 'Distance_from_Home', 'Exam_Score',\n",
       "       'Tutoring_Sessions_Group'],\n",
       "      dtype='object')"
      ]
     },
     "execution_count": 329,
     "metadata": {},
     "output_type": "execute_result"
    }
   ],
   "source": [
    "df.columns"
   ]
  },
  {
   "cell_type": "code",
   "execution_count": 330,
   "id": "1893f6dc",
   "metadata": {},
   "outputs": [
    {
     "data": {
      "text/plain": [
       "Exam_Score\n",
       "68     759\n",
       "66     751\n",
       "67     716\n",
       "65     677\n",
       "69     624\n",
       "70     541\n",
       "64     501\n",
       "71     408\n",
       "63     370\n",
       "72     304\n",
       "62     263\n",
       "61     171\n",
       "73     141\n",
       "74     106\n",
       "60      77\n",
       "75      48\n",
       "59      40\n",
       "58      22\n",
       "76      16\n",
       "80       5\n",
       "77       5\n",
       "57       4\n",
       "82       4\n",
       "94       4\n",
       "86       4\n",
       "78       4\n",
       "84       3\n",
       "98       3\n",
       "97       3\n",
       "89       3\n",
       "79       3\n",
       "88       3\n",
       "93       2\n",
       "92       2\n",
       "99       2\n",
       "87       2\n",
       "95       2\n",
       "85       1\n",
       "91       1\n",
       "96       1\n",
       "100      1\n",
       "83       1\n",
       "55       1\n",
       "56       1\n",
       "Name: count, dtype: int64"
      ]
     },
     "execution_count": 330,
     "metadata": {},
     "output_type": "execute_result"
    }
   ],
   "source": [
    "df.Exam_Score.value_counts()"
   ]
  },
  {
   "cell_type": "markdown",
   "id": "17eeb3ff",
   "metadata": {},
   "source": [
    "# 🛠️Step 4: Feature Eng\n",
    "<hr>"
   ]
  },
  {
   "cell_type": "code",
   "execution_count": 331,
   "id": "b7271151",
   "metadata": {},
   "outputs": [
    {
     "data": {
      "text/plain": [
       "55"
      ]
     },
     "execution_count": 331,
     "metadata": {},
     "output_type": "execute_result"
    }
   ],
   "source": [
    "df['Exam_Score'].min()"
   ]
  },
  {
   "cell_type": "code",
   "execution_count": 332,
   "id": "d9201020",
   "metadata": {},
   "outputs": [
    {
     "data": {
      "text/html": [
       "<div>\n",
       "<style scoped>\n",
       "    .dataframe tbody tr th:only-of-type {\n",
       "        vertical-align: middle;\n",
       "    }\n",
       "\n",
       "    .dataframe tbody tr th {\n",
       "        vertical-align: top;\n",
       "    }\n",
       "\n",
       "    .dataframe thead th {\n",
       "        text-align: right;\n",
       "    }\n",
       "</style>\n",
       "<table border=\"1\" class=\"dataframe\">\n",
       "  <thead>\n",
       "    <tr style=\"text-align: right;\">\n",
       "      <th></th>\n",
       "      <th>Hours_Studied</th>\n",
       "      <th>Attendance</th>\n",
       "      <th>Parental_Involvement</th>\n",
       "      <th>Access_to_Resources</th>\n",
       "      <th>Extracurricular_Activities</th>\n",
       "      <th>Sleep_Hours</th>\n",
       "      <th>Previous_Scores</th>\n",
       "      <th>Motivation_Level</th>\n",
       "      <th>Internet_Access</th>\n",
       "      <th>Family_Income</th>\n",
       "      <th>Teacher_Quality</th>\n",
       "      <th>Peer_Influence</th>\n",
       "      <th>Physical_Activity</th>\n",
       "      <th>Learning_Disabilities</th>\n",
       "      <th>Parental_Education_Level</th>\n",
       "      <th>Distance_from_Home</th>\n",
       "      <th>Exam_Score</th>\n",
       "      <th>Tutoring_Sessions_Group</th>\n",
       "      <th>Grade</th>\n",
       "    </tr>\n",
       "  </thead>\n",
       "  <tbody>\n",
       "    <tr>\n",
       "      <th>0</th>\n",
       "      <td>23</td>\n",
       "      <td>84</td>\n",
       "      <td>0</td>\n",
       "      <td>2</td>\n",
       "      <td>0</td>\n",
       "      <td>7</td>\n",
       "      <td>73</td>\n",
       "      <td>0</td>\n",
       "      <td>1</td>\n",
       "      <td>0</td>\n",
       "      <td>1</td>\n",
       "      <td>2</td>\n",
       "      <td>3</td>\n",
       "      <td>0</td>\n",
       "      <td>0</td>\n",
       "      <td>2</td>\n",
       "      <td>67</td>\n",
       "      <td>0</td>\n",
       "      <td>2</td>\n",
       "    </tr>\n",
       "    <tr>\n",
       "      <th>1</th>\n",
       "      <td>19</td>\n",
       "      <td>64</td>\n",
       "      <td>0</td>\n",
       "      <td>1</td>\n",
       "      <td>0</td>\n",
       "      <td>8</td>\n",
       "      <td>59</td>\n",
       "      <td>0</td>\n",
       "      <td>1</td>\n",
       "      <td>1</td>\n",
       "      <td>1</td>\n",
       "      <td>0</td>\n",
       "      <td>4</td>\n",
       "      <td>0</td>\n",
       "      <td>1</td>\n",
       "      <td>1</td>\n",
       "      <td>61</td>\n",
       "      <td>2</td>\n",
       "      <td>1</td>\n",
       "    </tr>\n",
       "    <tr>\n",
       "      <th>2</th>\n",
       "      <td>24</td>\n",
       "      <td>98</td>\n",
       "      <td>1</td>\n",
       "      <td>1</td>\n",
       "      <td>1</td>\n",
       "      <td>7</td>\n",
       "      <td>91</td>\n",
       "      <td>1</td>\n",
       "      <td>1</td>\n",
       "      <td>1</td>\n",
       "      <td>1</td>\n",
       "      <td>1</td>\n",
       "      <td>4</td>\n",
       "      <td>0</td>\n",
       "      <td>2</td>\n",
       "      <td>2</td>\n",
       "      <td>74</td>\n",
       "      <td>2</td>\n",
       "      <td>3</td>\n",
       "    </tr>\n",
       "    <tr>\n",
       "      <th>3</th>\n",
       "      <td>29</td>\n",
       "      <td>89</td>\n",
       "      <td>0</td>\n",
       "      <td>1</td>\n",
       "      <td>1</td>\n",
       "      <td>8</td>\n",
       "      <td>98</td>\n",
       "      <td>1</td>\n",
       "      <td>1</td>\n",
       "      <td>1</td>\n",
       "      <td>1</td>\n",
       "      <td>0</td>\n",
       "      <td>4</td>\n",
       "      <td>0</td>\n",
       "      <td>0</td>\n",
       "      <td>1</td>\n",
       "      <td>71</td>\n",
       "      <td>1</td>\n",
       "      <td>3</td>\n",
       "    </tr>\n",
       "    <tr>\n",
       "      <th>4</th>\n",
       "      <td>19</td>\n",
       "      <td>92</td>\n",
       "      <td>1</td>\n",
       "      <td>1</td>\n",
       "      <td>1</td>\n",
       "      <td>6</td>\n",
       "      <td>65</td>\n",
       "      <td>1</td>\n",
       "      <td>1</td>\n",
       "      <td>1</td>\n",
       "      <td>2</td>\n",
       "      <td>1</td>\n",
       "      <td>4</td>\n",
       "      <td>0</td>\n",
       "      <td>1</td>\n",
       "      <td>2</td>\n",
       "      <td>70</td>\n",
       "      <td>3</td>\n",
       "      <td>3</td>\n",
       "    </tr>\n",
       "  </tbody>\n",
       "</table>\n",
       "</div>"
      ],
      "text/plain": [
       "   Hours_Studied  Attendance  Parental_Involvement  Access_to_Resources  \\\n",
       "0             23          84                     0                    2   \n",
       "1             19          64                     0                    1   \n",
       "2             24          98                     1                    1   \n",
       "3             29          89                     0                    1   \n",
       "4             19          92                     1                    1   \n",
       "\n",
       "   Extracurricular_Activities  Sleep_Hours  Previous_Scores  Motivation_Level  \\\n",
       "0                           0            7               73                 0   \n",
       "1                           0            8               59                 0   \n",
       "2                           1            7               91                 1   \n",
       "3                           1            8               98                 1   \n",
       "4                           1            6               65                 1   \n",
       "\n",
       "   Internet_Access  Family_Income  Teacher_Quality  Peer_Influence  \\\n",
       "0                1              0                1               2   \n",
       "1                1              1                1               0   \n",
       "2                1              1                1               1   \n",
       "3                1              1                1               0   \n",
       "4                1              1                2               1   \n",
       "\n",
       "   Physical_Activity  Learning_Disabilities  Parental_Education_Level  \\\n",
       "0                  3                      0                         0   \n",
       "1                  4                      0                         1   \n",
       "2                  4                      0                         2   \n",
       "3                  4                      0                         0   \n",
       "4                  4                      0                         1   \n",
       "\n",
       "   Distance_from_Home  Exam_Score  Tutoring_Sessions_Group Grade  \n",
       "0                   2          67                        0     2  \n",
       "1                   1          61                        2     1  \n",
       "2                   2          74                        2     3  \n",
       "3                   1          71                        1     3  \n",
       "4                   2          70                        3     3  "
      ]
     },
     "execution_count": 332,
     "metadata": {},
     "output_type": "execute_result"
    }
   ],
   "source": [
    "def assign_grade(score):\n",
    "    if score >= 75:\n",
    "        return '3'\n",
    "    elif score >= 69:\n",
    "        return '3'\n",
    "    elif score >= 66:\n",
    "        return '2'\n",
    "    elif score >= 60:\n",
    "        return '1'\n",
    "    elif score >= 55:\n",
    "        return '1'\n",
    "    else:\n",
    "        return '1'\n",
    "\n",
    "df['Grade'] = df['Exam_Score'].apply(assign_grade)\n",
    "df.head()"
   ]
  },
  {
   "cell_type": "code",
   "execution_count": 333,
   "id": "4c9fed85",
   "metadata": {},
   "outputs": [
    {
     "data": {
      "text/plain": [
       "Grade\n",
       "3    2247\n",
       "2    2226\n",
       "1    2127\n",
       "Name: count, dtype: int64"
      ]
     },
     "execution_count": 333,
     "metadata": {},
     "output_type": "execute_result"
    }
   ],
   "source": [
    "df[\"Grade\"].value_counts()"
   ]
  },
  {
   "cell_type": "code",
   "execution_count": 334,
   "id": "0f58cb1f",
   "metadata": {},
   "outputs": [
    {
     "data": {
      "image/png": "[encoded data removed]",
      "text/plain": [
       "<Figure size 640x480 with 1 Axes>"
      ]
     },
     "metadata": {},
     "output_type": "display_data"
    }
   ],
   "source": [
    "sns.histplot(df['Exam_Score'], bins=30, kde=True)\n",
    "plt.show()"
   ]
  },
  {
   "cell_type": "code",
   "execution_count": 335,
   "id": "83b64f7f",
   "metadata": {},
   "outputs": [],
   "source": [
    "df.drop(columns=['Exam_Score'], inplace=True)"
   ]
  },
  {
   "cell_type": "markdown",
   "id": "d0eefbd9",
   "metadata": {},
   "source": [
    "# 🤖Step 5: Modeling\n",
    "<hr>"
   ]
  },
  {
   "cell_type": "code",
   "execution_count": null,
   "id": "1e6096a5",
   "metadata": {},
   "outputs": [],
   "source": [
    "from sklearn.model_selection import train_test_split\n",
    "from sklearn.preprocessing import StandardScaler\n",
    "from sklearn.metrics import classification_report, confusion_matrix, accuracy_score\n"
   ]
  },
  {
   "cell_type": "code",
   "execution_count": 337,
   "id": "e1ac39fc",
   "metadata": {},
   "outputs": [],
   "source": [
    "X = df.drop(['Grade'], axis=1) \n",
    "y = df['Grade']\n",
    "\n",
    "X_train, X_test, y_train, y_test = train_test_split(X, y, test_size=0.2, random_state=42)"
   ]
  },
  {
   "cell_type": "code",
   "execution_count": 338,
   "id": "83965980",
   "metadata": {},
   "outputs": [],
   "source": [
    "# Feature Scaling \n",
    "scaler = StandardScaler()\n",
    "X_train_scaled = scaler.fit_transform(X_train)\n",
    "X_test_scaled = scaler.transform(X_test)"
   ]
  },
  {
   "cell_type": "markdown",
   "id": "9ebe333e",
   "metadata": {},
   "source": [
    "### <span style=\"color:gold; font-weight:bold\">01. Logistic Regression</span>"
   ]
  },
  {
   "cell_type": "code",
   "execution_count": 339,
   "id": "8c2f3581",
   "metadata": {},
   "outputs": [
    {
     "name": "stdout",
     "output_type": "stream",
     "text": [
      "Logistic Regression Results:\n",
      "Accuracy: 0.9553030303030303\n",
      "\n",
      "Confusion Matrix:\n",
      " [[431  16   0]\n",
      " [ 12 414   9]\n",
      " [  6  16 416]]\n",
      "\n",
      "Classification Report:\n",
      "               precision    recall  f1-score   support\n",
      "\n",
      "           1       0.96      0.96      0.96       447\n",
      "           2       0.93      0.95      0.94       435\n",
      "           3       0.98      0.95      0.96       438\n",
      "\n",
      "    accuracy                           0.96      1320\n",
      "   macro avg       0.96      0.96      0.96      1320\n",
      "weighted avg       0.96      0.96      0.96      1320\n",
      "\n"
     ]
    }
   ],
   "source": [
    "from sklearn.linear_model import LogisticRegression\n",
    "\n",
    "logreg = LogisticRegression(max_iter=1000, random_state=42, class_weight='balanced')  \n",
    "logreg.fit(X_train_scaled, y_train)\n",
    "\n",
    "y_pred = logreg.predict(X_test_scaled)\n",
    "\n",
    "print(\"Logistic Regression Results:\")\n",
    "print(\"Accuracy:\", accuracy_score(y_test, y_pred))\n",
    "print(\"\\nConfusion Matrix:\\n\", confusion_matrix(y_test, y_pred))\n",
    "print(\"\\nClassification Report:\\n\", classification_report(y_test, y_pred))"
   ]
  },
  {
   "cell_type": "markdown",
   "id": "3788c592",
   "metadata": {},
   "source": [
    "### <span style=\"color:gold; font-weight:bold\">02. Random Forest classifier</span>"
   ]
  },
  {
   "cell_type": "code",
   "execution_count": 340,
   "id": "0d6e1255",
   "metadata": {},
   "outputs": [
    {
     "name": "stdout",
     "output_type": "stream",
     "text": [
      "\n",
      "Random Forest Results:\n",
      "Accuracy: 0.8159\n",
      "\n",
      "Confusion Matrix:\n",
      " [[384  63   0]\n",
      " [ 53 331  51]\n",
      " [  7  69 362]]\n",
      "\n",
      "Classification Report:\n",
      "               precision    recall  f1-score   support\n",
      "\n",
      "           1       0.86      0.86      0.86       447\n",
      "           2       0.71      0.76      0.74       435\n",
      "           3       0.88      0.83      0.85       438\n",
      "\n",
      "    accuracy                           0.82      1320\n",
      "   macro avg       0.82      0.82      0.82      1320\n",
      "weighted avg       0.82      0.82      0.82      1320\n",
      "\n"
     ]
    }
   ],
   "source": [
    "from sklearn.ensemble import RandomForestClassifier\n",
    "\n",
    "# Initialize and train Random Forest\n",
    "rf = RandomForestClassifier(\n",
    "    n_estimators=100,  \n",
    "    max_depth=None,    \n",
    "    min_samples_split=2,\n",
    "    random_state=42,\n",
    "    class_weight='balanced'  \n",
    ")\n",
    "rf.fit(X_train_scaled, y_train)\n",
    "\n",
    "# Predict on test set\n",
    "y_pred_rf = rf.predict(X_test_scaled)\n",
    "\n",
    "# Evaluate\n",
    "print(\"\\nRandom Forest Results:\")\n",
    "print(f\"Accuracy: {accuracy_score(y_test, y_pred_rf):.4f}\")\n",
    "print(\"\\nConfusion Matrix:\\n\", confusion_matrix(y_test, y_pred_rf))\n",
    "print(\"\\nClassification Report:\\n\", classification_report(y_test, y_pred_rf))"
   ]
  },
  {
   "cell_type": "code",
   "execution_count": 341,
   "id": "3ccd9fa8",
   "metadata": {},
   "outputs": [
    {
     "data": {
      "text/plain": [
       "['classification_model/random_forest_model.pkl']"
      ]
     },
     "execution_count": 341,
     "metadata": {},
     "output_type": "execute_result"
    }
   ],
   "source": [
    "import joblib\n",
    "\n",
    "# Save the models\n",
    "joblib.dump(logreg, 'classification_model/logistic_regression_model.pkl')\n",
    "joblib.dump(rf, 'classification_model/random_forest_model.pkl')"
   ]
  }
 ],
 "metadata": {
  "kernelspec": {
   "display_name": "Python 3",
   "language": "python",
   "name": "python3"
  },
  "language_info": {
   "codemirror_mode": {
    "name": "ipython",
    "version": 3
   },
   "file_extension": ".py",
   "mimetype": "text/x-python",
   "name": "python",
   "nbconvert_exporter": "python",
   "pygments_lexer": "ipython3",
   "version": "3.11.4"
  }
 },
 "nbformat": 4,
 "nbformat_minor": 5
}
